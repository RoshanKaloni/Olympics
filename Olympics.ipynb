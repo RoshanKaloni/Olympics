{
 "cells": [
  {
   "cell_type": "code",
   "execution_count": 1,
   "id": "atomic-richmond",
   "metadata": {},
   "outputs": [
    {
     "name": "stdout",
     "output_type": "stream",
     "text": [
      "Requirement already satisfied: mysql-connector-python in c:\\users\\roshan\\appdata\\local\\programs\\python\\python39\\lib\\site-packages (8.0.31)\n",
      "Requirement already satisfied: protobuf<=3.20.1,>=3.11.0 in c:\\users\\roshan\\appdata\\local\\programs\\python\\python39\\lib\\site-packages (from mysql-connector-python) (3.17.3)\n",
      "Requirement already satisfied: six>=1.9 in c:\\users\\roshan\\appdata\\local\\programs\\python\\python39\\lib\\site-packages (from protobuf<=3.20.1,>=3.11.0->mysql-connector-python) (1.15.0)\n",
      "Note: you may need to restart the kernel to use updated packages.\n"
     ]
    },
    {
     "name": "stderr",
     "output_type": "stream",
     "text": [
      "WARNING: You are using pip version 21.2.4; however, version 23.0 is available.\n",
      "You should consider upgrading via the 'c:\\users\\roshan\\appdata\\local\\programs\\python\\python39\\python.exe -m pip install --upgrade pip' command.\n"
     ]
    }
   ],
   "source": [
    "# pip install mysql-connector-python"
   ]
  },
  {
   "cell_type": "markdown",
   "id": "third-liberal",
   "metadata": {},
   "source": [
    "### Creating a table with MySQL"
   ]
  },
  {
   "cell_type": "code",
   "execution_count": 2,
   "id": "underlying-level",
   "metadata": {},
   "outputs": [],
   "source": [
    "from __future__ import print_function\n",
    "\n",
    "import mysql.connector\n",
    "from mysql.connector import errorcode\n",
    "import pandas as pd\n",
    "import numpy as np"
   ]
  },
  {
   "cell_type": "code",
   "execution_count": 3,
   "id": "proud-chorus",
   "metadata": {},
   "outputs": [],
   "source": [
    "tokyo_olympics = pd.read_csv(\"Tokyo_Olympics.csv\")"
   ]
  },
  {
   "cell_type": "code",
   "execution_count": 4,
   "id": "political-lounge",
   "metadata": {},
   "outputs": [
    {
     "data": {
      "text/html": [
       "<div>\n",
       "<style scoped>\n",
       "    .dataframe tbody tr th:only-of-type {\n",
       "        vertical-align: middle;\n",
       "    }\n",
       "\n",
       "    .dataframe tbody tr th {\n",
       "        vertical-align: top;\n",
       "    }\n",
       "\n",
       "    .dataframe thead th {\n",
       "        text-align: right;\n",
       "    }\n",
       "</style>\n",
       "<table border=\"1\" class=\"dataframe\">\n",
       "  <thead>\n",
       "    <tr style=\"text-align: right;\">\n",
       "      <th></th>\n",
       "      <th>Country</th>\n",
       "      <th>Gold Medal</th>\n",
       "      <th>Silver Medal</th>\n",
       "      <th>Bronze Medal</th>\n",
       "      <th>Total</th>\n",
       "      <th>Rank By Total</th>\n",
       "    </tr>\n",
       "  </thead>\n",
       "  <tbody>\n",
       "    <tr>\n",
       "      <th>0</th>\n",
       "      <td>United States of America</td>\n",
       "      <td>39</td>\n",
       "      <td>41</td>\n",
       "      <td>33</td>\n",
       "      <td>113</td>\n",
       "      <td>1</td>\n",
       "    </tr>\n",
       "    <tr>\n",
       "      <th>1</th>\n",
       "      <td>People's Republic of China</td>\n",
       "      <td>38</td>\n",
       "      <td>32</td>\n",
       "      <td>18</td>\n",
       "      <td>88</td>\n",
       "      <td>2</td>\n",
       "    </tr>\n",
       "    <tr>\n",
       "      <th>2</th>\n",
       "      <td>Japan</td>\n",
       "      <td>27</td>\n",
       "      <td>14</td>\n",
       "      <td>17</td>\n",
       "      <td>58</td>\n",
       "      <td>5</td>\n",
       "    </tr>\n",
       "    <tr>\n",
       "      <th>3</th>\n",
       "      <td>Great Britain</td>\n",
       "      <td>22</td>\n",
       "      <td>21</td>\n",
       "      <td>22</td>\n",
       "      <td>65</td>\n",
       "      <td>4</td>\n",
       "    </tr>\n",
       "    <tr>\n",
       "      <th>4</th>\n",
       "      <td>ROC</td>\n",
       "      <td>20</td>\n",
       "      <td>28</td>\n",
       "      <td>23</td>\n",
       "      <td>71</td>\n",
       "      <td>3</td>\n",
       "    </tr>\n",
       "  </tbody>\n",
       "</table>\n",
       "</div>"
      ],
      "text/plain": [
       "                      Country  Gold Medal  Silver Medal  Bronze Medal  Total  \\\n",
       "0    United States of America          39            41            33    113   \n",
       "1  People's Republic of China          38            32            18     88   \n",
       "2                       Japan          27            14            17     58   \n",
       "3               Great Britain          22            21            22     65   \n",
       "4                         ROC          20            28            23     71   \n",
       "\n",
       "   Rank By Total  \n",
       "0              1  \n",
       "1              2  \n",
       "2              5  \n",
       "3              4  \n",
       "4              3  "
      ]
     },
     "execution_count": 4,
     "metadata": {},
     "output_type": "execute_result"
    }
   ],
   "source": [
    "tokyo_olympics.head()"
   ]
  },
  {
   "cell_type": "code",
   "execution_count": 5,
   "id": "parallel-clarity",
   "metadata": {},
   "outputs": [],
   "source": [
    "DB_NAME = 'olympics'"
   ]
  },
  {
   "cell_type": "code",
   "execution_count": 6,
   "id": "grateful-privilege",
   "metadata": {},
   "outputs": [],
   "source": [
    "TABLES = {}\n",
    "\n",
    "TABLES['Tokyo_Olympic'] = (\n",
    "    \"CREATE TABLE IF NOT EXISTS `Tokyo_Olympic` (\"\n",
    "    \"  `Country` varchar(50) ,\"\n",
    "    \"  `Gold Medal` varchar(10),\"\n",
    "    \"  `Silver Medal` varchar(10) ,\"\n",
    "    \"  `Bronze Medal` varchar(10) ,\"\n",
    "    \"  `Total` varchar(10),\"\n",
    "    \"  `Rank By Total` varchar(10)\"\n",
    "    \") \")\n"
   ]
  },
  {
   "cell_type": "code",
   "execution_count": 7,
   "id": "occupied-intranet",
   "metadata": {},
   "outputs": [],
   "source": [
    "cnx = mysql.connector.connect(user='root', password='G1Ri0nk@#07',\n",
    "                              host='127.0.0.1')\n",
    "cursor = cnx.cursor()"
   ]
  },
  {
   "cell_type": "code",
   "execution_count": 8,
   "id": "searching-pocket",
   "metadata": {},
   "outputs": [],
   "source": [
    "def create_database(cursor):\n",
    "    try:\n",
    "        cursor.execute(\n",
    "            \"CREATE DATABASE {} DEFAULT CHARACTER SET 'utf8'\".format(DB_NAME))\n",
    "    except mysql.connector.Error as err:\n",
    "        print(\"Failed creating database: {}\".format(err))\n",
    "        exit(1)\n",
    "\n",
    "try:\n",
    "    cursor.execute(\"USE {}\".format(DB_NAME))\n",
    "except mysql.connector.Error as err:\n",
    "    print(\"Database {} does not exists.\".format(DB_NAME))\n",
    "    if err.errno == errorcode.ER_BAD_DB_ERROR:\n",
    "        create_database(cursor)\n",
    "        print(\"Database {} created successfully.\".format(DB_NAME))\n",
    "        cnx.database = DB_NAME\n",
    "    else:\n",
    "        print(err)\n",
    "        exit(1)"
   ]
  },
  {
   "cell_type": "code",
   "execution_count": 9,
   "id": "constitutional-november",
   "metadata": {},
   "outputs": [
    {
     "name": "stdout",
     "output_type": "stream",
     "text": [
      "Creating table Tokyo_Olympic: OK\n"
     ]
    }
   ],
   "source": [
    "for table_name in TABLES:\n",
    "    table_description = TABLES[table_name]\n",
    "    try:\n",
    "        print(\"Creating table {}: \".format(table_name), end='')\n",
    "        cursor.execute(table_description)\n",
    "    except mysql.connector.Error as err:\n",
    "        if err.errno == errorcode.ER_TABLE_EXISTS_ERROR:\n",
    "            print(\"already exists.\")\n",
    "        else:\n",
    "            print(err.msg)\n",
    "    else:\n",
    "        print(\"OK\")\n",
    "\n"
   ]
  },
  {
   "cell_type": "code",
   "execution_count": 11,
   "id": "dental-daisy",
   "metadata": {},
   "outputs": [
    {
     "name": "stdout",
     "output_type": "stream",
     "text": [
      "Record inserted\n",
      "Record inserted\n",
      "Record inserted\n",
      "Record inserted\n",
      "Record inserted\n",
      "Record inserted\n",
      "Record inserted\n",
      "Record inserted\n",
      "Record inserted\n",
      "Record inserted\n",
      "Record inserted\n",
      "Record inserted\n",
      "Record inserted\n",
      "Record inserted\n",
      "Record inserted\n",
      "Record inserted\n",
      "Record inserted\n",
      "Record inserted\n",
      "Record inserted\n",
      "Record inserted\n",
      "Record inserted\n",
      "Record inserted\n",
      "Record inserted\n",
      "Record inserted\n",
      "Record inserted\n",
      "Record inserted\n",
      "Record inserted\n",
      "Record inserted\n",
      "Record inserted\n",
      "Record inserted\n",
      "Record inserted\n",
      "Record inserted\n",
      "Record inserted\n",
      "Record inserted\n",
      "Record inserted\n",
      "Record inserted\n",
      "Record inserted\n",
      "Record inserted\n",
      "Record inserted\n",
      "Record inserted\n",
      "Record inserted\n",
      "Record inserted\n",
      "Record inserted\n",
      "Record inserted\n",
      "Record inserted\n",
      "Record inserted\n",
      "Record inserted\n",
      "Record inserted\n",
      "Record inserted\n",
      "Record inserted\n",
      "Record inserted\n",
      "Record inserted\n",
      "Record inserted\n",
      "Record inserted\n",
      "Record inserted\n",
      "Record inserted\n",
      "Record inserted\n",
      "Record inserted\n",
      "Record inserted\n",
      "Record inserted\n",
      "Record inserted\n",
      "Record inserted\n",
      "Record inserted\n",
      "Record inserted\n",
      "Record inserted\n",
      "Record inserted\n",
      "Record inserted\n",
      "Record inserted\n",
      "Record inserted\n",
      "Record inserted\n",
      "Record inserted\n",
      "Record inserted\n",
      "Record inserted\n",
      "Record inserted\n",
      "Record inserted\n",
      "Record inserted\n",
      "Record inserted\n",
      "Record inserted\n",
      "Record inserted\n",
      "Record inserted\n",
      "Record inserted\n",
      "Record inserted\n",
      "Record inserted\n",
      "Record inserted\n",
      "Record inserted\n",
      "Record inserted\n",
      "Record inserted\n",
      "Record inserted\n",
      "Record inserted\n",
      "Record inserted\n",
      "Record inserted\n",
      "Record inserted\n",
      "Record inserted\n"
     ]
    }
   ],
   "source": [
    "try:\n",
    "    for i,row in tokyo_olympics.iterrows():\n",
    "                sql = \"INSERT INTO olympics.Tokyo_Olympic VALUES (%s,%s,%s,%s,%s,%s)\"\n",
    "                cursor.execute(sql, list(row))\n",
    "                print(\"Record inserted\")\n",
    "                # the connection is not auto committed by default, so we must commit to save our changes\n",
    "                cnx.commit()\n",
    "except mysql.connector.Error as err:\n",
    "            print(\"Error while connecting to MySQL\", err)"
   ]
  },
  {
   "cell_type": "code",
   "execution_count": 12,
   "id": "specified-transport",
   "metadata": {},
   "outputs": [],
   "source": [
    "cursor.close()\n",
    "cnx.close()"
   ]
  },
  {
   "cell_type": "code",
   "execution_count": null,
   "id": "powered-anderson",
   "metadata": {},
   "outputs": [],
   "source": []
  }
 ],
 "metadata": {
  "kernelspec": {
   "display_name": "Python 3",
   "language": "python",
   "name": "python3"
  },
  "language_info": {
   "codemirror_mode": {
    "name": "ipython",
    "version": 3
   },
   "file_extension": ".py",
   "mimetype": "text/x-python",
   "name": "python",
   "nbconvert_exporter": "python",
   "pygments_lexer": "ipython3",
   "version": "3.9.1"
  }
 },
 "nbformat": 4,
 "nbformat_minor": 5
}
